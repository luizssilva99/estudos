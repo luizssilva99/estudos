{
 "cells": [
  {
   "cell_type": "code",
   "execution_count": 1,
   "metadata": {},
   "outputs": [],
   "source": [
    "import re"
   ]
  },
  {
   "attachments": {},
   "cell_type": "markdown",
   "metadata": {},
   "source": [
    "# Caracteres"
   ]
  },
  {
   "cell_type": "code",
   "execution_count": 6,
   "metadata": {},
   "outputs": [
    {
     "name": "stdout",
     "output_type": "stream",
     "text": [
      "['arara']\n"
     ]
    }
   ],
   "source": [
    "# . - Entende qualquer valor exceto uma nova linha\n",
    "# \\. - Para buscar o caractere \".\"\n",
    "\n",
    "texto = \"arara\"\n",
    "padrao = re.compile('ar.ra')\n",
    "check = padrao.findall(texto) # Lista om todos o valores que achou referente ao padrão feito\n",
    "print(check)"
   ]
  },
  {
   "cell_type": "code",
   "execution_count": 7,
   "metadata": {},
   "outputs": [
    {
     "name": "stdout",
     "output_type": "stream",
     "text": [
      "['a']\n",
      "['r', 'r']\n"
     ]
    }
   ],
   "source": [
    "# ^ - Irá testar o início da string\n",
    "# [^] - rá considerar todos os caracteres EXCETO o indicado\n",
    "\n",
    "texto = 'arara'\n",
    "p1 = re.compile('^a')\n",
    "p2 = re.compile('[^a]')\n",
    "\n",
    "check1 = p1.findall(texto)\n",
    "check2 = p2.findall(texto)\n",
    "\n",
    "print(check1)\n",
    "print(check2)"
   ]
  },
  {
   "cell_type": "code",
   "execution_count": 9,
   "metadata": {},
   "outputs": [
    {
     "name": "stdout",
     "output_type": "stream",
     "text": [
      "['1', '9', '9', '2']\n",
      "['a', 'r', 'a', 'r', 'a']\n"
     ]
    }
   ],
   "source": [
    "# \\d - Qualquer coractere que SEJA um algarismo de 0 a 9\n",
    "# \\D - Qualquer coractere que NÃO SEJA um algarismo de 0 a 9\n",
    "\n",
    "texto = 'arara1992'\n",
    "p1 = re.compile(r'\\d') # Importante uilizar o \"r\" (rowString) para que não tenha prblemas com caracteres especiais\n",
    "p2 = re.compile(r'\\D')\n",
    "check1 = p1.findall(texto)\n",
    "check2 = p2.findall(texto)\n",
    "print(check1)\n",
    "print(check2)"
   ]
  },
  {
   "cell_type": "code",
   "execution_count": 12,
   "metadata": {},
   "outputs": [
    {
     "name": "stdout",
     "output_type": "stream",
     "text": [
      "['\\n', '\\n', ' ', '\\n', '\\n']\n",
      "['a', 'r', 'a', 'r', 'a', '1', '9', '9', '2']\n"
     ]
    }
   ],
   "source": [
    "# \\s - Qualquer coractere que SEJA vazio\n",
    "# \\S - Qualquer coractere que NÃO SEJA vazio\n",
    "texto = '''\n",
    "\n",
    "arara 1992\n",
    "\n",
    "'''\n",
    "\n",
    "p1 = re.compile(r'\\s')\n",
    "p2 = re.compile(r'\\S')\n",
    "check1 = p1.findall(texto)\n",
    "check2 = p2.findall(texto)\n",
    "\n",
    "print(check1)\n",
    "print(check2)"
   ]
  },
  {
   "cell_type": "code",
   "execution_count": 16,
   "metadata": {},
   "outputs": [
    {
     "name": "stdout",
     "output_type": "stream",
     "text": [
      "['_', 'a', 'r', 'a', 'r', 'a', '1', '9', '9', '2', '_']\n",
      "['\\n', '\\n', '@', ' ', '\\n', '\\n']\n"
     ]
    }
   ],
   "source": [
    "# \\w - Qualquer coractere que SEJA alfanumerico\n",
    "# \\W - Qualquer coractere que NÃO SEJA alfanumerico\n",
    "texto = '''\n",
    "\n",
    "_arara@ 1992_\n",
    "\n",
    "'''\n",
    "\n",
    "p1 = re.compile(r'\\w')\n",
    "p2 = re.compile(r'\\W')\n",
    "\n",
    "check1 = p1.findall(texto)\n",
    "check2 = p2.findall(texto)\n",
    "\n",
    "print(check1)\n",
    "print(check2)"
   ]
  },
  {
   "attachments": {},
   "cell_type": "markdown",
   "metadata": {},
   "source": [
    "# Métodos para checagem"
   ]
  },
  {
   "cell_type": "code",
   "execution_count": 24,
   "metadata": {},
   "outputs": [
    {
     "name": "stdout",
     "output_type": "stream",
     "text": [
      "['r', 'r']\n",
      "None\n",
      "<re.Match object; span=(1, 2), match='r'>\n",
      "<callable_iterator object at 0x000002A4481B86D0>\n"
     ]
    }
   ],
   "source": [
    "texto = 'arara'\n",
    "\n",
    "p1 = re.compile(r'r')\n",
    "\n",
    "check_findall = p1.findall(texto)\n",
    "check_match = p1.match(texto) # Procura comente o Match no inicio da string\n",
    "check_search = p1.search(texto) # Procura em todos os lugares de tem o padrão desejado\n",
    "check_finditer = p1.finditer(texto) # Procurar dentro do texto o padrão desejado para ser utilizado com um for\n",
    "\n",
    "print(check_findall)\n",
    "print(check_match)\n",
    "print(check_search)\n",
    "print(check_finditer)"
   ]
  },
  {
   "cell_type": "code",
   "execution_count": 25,
   "metadata": {},
   "outputs": [
    {
     "name": "stdout",
     "output_type": "stream",
     "text": [
      "<re.Match object; span=(1, 2), match='r'>\n",
      "<re.Match object; span=(3, 4), match='r'>\n"
     ]
    }
   ],
   "source": [
    "correspondencias = check_finditer\n",
    "\n",
    "for correspondencia in correspondencias:\n",
    "    print(correspondencia)"
   ]
  },
  {
   "attachments": {},
   "cell_type": "markdown",
   "metadata": {},
   "source": [
    "# Estruturas\n",
    "\n",
    "Character set"
   ]
  },
  {
   "cell_type": "code",
   "execution_count": 26,
   "metadata": {},
   "outputs": [
    {
     "name": "stdout",
     "output_type": "stream",
     "text": [
      "<re.Match object; span=(1, 2), match='A'>\n",
      "<re.Match object; span=(2, 3), match='r'>\n",
      "<re.Match object; span=(3, 4), match='a'>\n",
      "<re.Match object; span=(4, 5), match='r'>\n",
      "<re.Match object; span=(5, 6), match='a'>\n",
      "<re.Match object; span=(7, 8), match='1'>\n",
      "<re.Match object; span=(8, 9), match='9'>\n",
      "<re.Match object; span=(9, 10), match='9'>\n",
      "<re.Match object; span=(10, 11), match='2'>\n"
     ]
    }
   ],
   "source": [
    "texto = '''\n",
    "Arara 1992\n",
    "'''\n",
    "\n",
    "p = re.compile(r'[a-zA-Z0-9]')\n",
    "correspondencias = p.finditer(texto)\n",
    "\n",
    "for correspondencia in correspondencias:\n",
    "    print(correspondencia)"
   ]
  },
  {
   "cell_type": "code",
   "execution_count": 28,
   "metadata": {},
   "outputs": [
    {
     "name": "stdout",
     "output_type": "stream",
     "text": [
      "<re.Match object; span=(1, 11), match='Arara 1992'>\n",
      "<re.Match object; span=(12, 19), match='Ara 192'>\n"
     ]
    }
   ],
   "source": [
    "texto = '''\n",
    "Arara 1992\n",
    "Ara 192\n",
    "'''\n",
    "\n",
    "p = re.compile(r'[a-zA-Z]+ [0-9]+') # Define se existe qualquer letra junto com numero e seprados por um espaço\n",
    "correspondencias = p.finditer(texto)\n",
    "\n",
    "for correspondencia in correspondencias:\n",
    "    print(correspondencia)"
   ]
  },
  {
   "attachments": {},
   "cell_type": "markdown",
   "metadata": {},
   "source": [
    "# Quantificadores"
   ]
  },
  {
   "cell_type": "code",
   "execution_count": 30,
   "metadata": {},
   "outputs": [
    {
     "name": "stdout",
     "output_type": "stream",
     "text": [
      "<re.Match object; span=(0, 0), match=''>\n",
      "<re.Match object; span=(1, 1), match=''>\n",
      "<re.Match object; span=(2, 6), match='rara'>\n",
      "<re.Match object; span=(6, 6), match=''>\n",
      "<re.Match object; span=(7, 7), match=''>\n"
     ]
    }
   ],
   "source": [
    "# * - 0 ou mais\n",
    "texto = '''\n",
    "Arara\n",
    "'''\n",
    "\n",
    "p = re.compile(r'[ra]*')\n",
    "correspondencias = p.finditer(texto)\n",
    "\n",
    "for correspondencia in correspondencias:\n",
    "    print(correspondencia)"
   ]
  },
  {
   "cell_type": "code",
   "execution_count": 31,
   "metadata": {},
   "outputs": [
    {
     "name": "stdout",
     "output_type": "stream",
     "text": [
      "<re.Match object; span=(2, 6), match='rara'>\n"
     ]
    }
   ],
   "source": [
    "# + - 1 ou mais\n",
    "texto = '''\n",
    "Arara\n",
    "'''\n",
    "\n",
    "p = re.compile(r'[ra]+')\n",
    "correspondencias = p.finditer(texto)\n",
    "\n",
    "for correspondencia in correspondencias:\n",
    "    print(correspondencia)"
   ]
  },
  {
   "cell_type": "code",
   "execution_count": 32,
   "metadata": {},
   "outputs": [
    {
     "name": "stdout",
     "output_type": "stream",
     "text": [
      "<re.Match object; span=(0, 0), match=''>\n",
      "<re.Match object; span=(1, 1), match=''>\n",
      "<re.Match object; span=(2, 3), match='r'>\n",
      "<re.Match object; span=(3, 4), match='a'>\n",
      "<re.Match object; span=(4, 5), match='r'>\n",
      "<re.Match object; span=(5, 6), match='a'>\n",
      "<re.Match object; span=(6, 6), match=''>\n",
      "<re.Match object; span=(7, 7), match=''>\n"
     ]
    }
   ],
   "source": [
    "# ? - 0 ou 1\n",
    "texto = '''\n",
    "Arara\n",
    "'''\n",
    "\n",
    "p = re.compile(r'[ra]?')\n",
    "correspondencias = p.finditer(texto)\n",
    "\n",
    "for correspondencia in correspondencias:\n",
    "    print(correspondencia)"
   ]
  },
  {
   "cell_type": "code",
   "execution_count": 38,
   "metadata": {},
   "outputs": [
    {
     "name": "stdout",
     "output_type": "stream",
     "text": [
      "<re.Match object; span=(2, 4), match='ra'>\n",
      "<re.Match object; span=(4, 6), match='ra'>\n"
     ]
    }
   ],
   "source": [
    "# {3} - número exato de repetições\n",
    "texto = '''\n",
    "Arara\n",
    "'''\n",
    "\n",
    "p = re.compile(r'[ra]{2}')\n",
    "correspondencias = p.finditer(texto)\n",
    "\n",
    "for correspondencia in correspondencias:\n",
    "    print(correspondencia)"
   ]
  },
  {
   "cell_type": "code",
   "execution_count": 39,
   "metadata": {},
   "outputs": [
    {
     "name": "stdout",
     "output_type": "stream",
     "text": [
      "<re.Match object; span=(2, 6), match='rara'>\n"
     ]
    }
   ],
   "source": [
    "# {2,4} - de 2 a 4 no máximo\n",
    "texto = '''\n",
    "Arara\n",
    "'''\n",
    "\n",
    "p = re.compile(r'[ra]{2,4}')\n",
    "correspondencias = p.finditer(texto)\n",
    "\n",
    "for correspondencia in correspondencias:\n",
    "    print(correspondencia)"
   ]
  },
  {
   "attachments": {},
   "cell_type": "markdown",
   "metadata": {},
   "source": [
    "# Grupos"
   ]
  },
  {
   "cell_type": "code",
   "execution_count": 42,
   "metadata": {},
   "outputs": [
    {
     "name": "stdout",
     "output_type": "stream",
     "text": [
      "Arara 1992\n",
      "A\n",
      "arara 1993\n",
      "a\n"
     ]
    }
   ],
   "source": [
    "# Consegue acessar determinado grupo\n",
    "texto = '''\n",
    "Arara 1992\n",
    "arara 1993\n",
    "'''\n",
    "\n",
    "p = re.compile(r'(A|a)?[a-z]{4} [0-9]+')\n",
    "correspondencias = p.finditer(texto)\n",
    "\n",
    "for correspondencia in correspondencias:\n",
    "    # print(correspondencia)\n",
    "    print(correspondencia.group(0)) # Grupo final relacionado ao \"A\"\n",
    "    print(correspondencia.group(1)) # Grupo na posição 1\n"
   ]
  },
  {
   "cell_type": "code",
   "execution_count": 52,
   "metadata": {},
   "outputs": [
    {
     "name": "stdout",
     "output_type": "stream",
     "text": [
      "<re.Match object; span=(17, 35), match='https://google.com'>\n",
      "https://google.com\n",
      "None\n",
      "google.\n",
      "com\n",
      "<re.Match object; span=(37, 55), match='https://www.gov.br'>\n",
      "https://www.gov.br\n",
      "None\n",
      "www.\n",
      "gov.br\n",
      "<re.Match object; span=(57, 83), match='https://www.kaiamba.com.br'>\n",
      "https://www.kaiamba.com.br\n",
      "www.\n",
      "kaiamba.\n",
      "com.br\n",
      "<re.Match object; span=(85, 112), match='http://www.faetec.rj.gov.br'>\n",
      "http://www.faetec.rj.gov.br\n",
      "www.\n",
      "rj.\n",
      "gov.br\n"
     ]
    }
   ],
   "source": [
    "texto1 = '''\n",
    "Sites diversos:\n",
    "https://google.com/\n",
    "https://www.gov.br/\n",
    "https://www.kaiamba.com.br/\n",
    "http://www.faetec.rj.gov.br\n",
    "'''\n",
    "\n",
    "padrao = re.compile(r'https?://(www\\.)?([a-zA-Z0-9]+\\.)+(com.br|gov.br|com)')\n",
    "correspondencias = padrao.finditer(texto1)\n",
    "\n",
    "for correspondencia in correspondencias:\n",
    "    print(correspondencia)\n",
    "    print(correspondencia.group(0)) # Grupo final\n",
    "    print(correspondencia.group(1))\n",
    "    print(correspondencia.group(2))\n",
    "    print(correspondencia.group(3))\n"
   ]
  }
 ],
 "metadata": {
  "kernelspec": {
   "display_name": "Calculadora",
   "language": "python",
   "name": "python3"
  },
  "language_info": {
   "codemirror_mode": {
    "name": "ipython",
    "version": 3
   },
   "file_extension": ".py",
   "mimetype": "text/x-python",
   "name": "python",
   "nbconvert_exporter": "python",
   "pygments_lexer": "ipython3",
   "version": "3.9.15 (main, Nov 24 2022, 14:39:17) [MSC v.1916 64 bit (AMD64)]"
  },
  "orig_nbformat": 4,
  "vscode": {
   "interpreter": {
    "hash": "589c58ef23f2e9c3b0b1c87a61b1b98141ae714273038f17a7286bef5e6cf440"
   }
  }
 },
 "nbformat": 4,
 "nbformat_minor": 2
}
